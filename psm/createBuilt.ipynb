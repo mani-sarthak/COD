{
 "cells": [
  {
   "cell_type": "code",
   "execution_count": 2,
   "metadata": {},
   "outputs": [],
   "source": [
    "import pandas as pd"
   ]
  },
  {
   "cell_type": "markdown",
   "metadata": {},
   "source": [
    "Split total.csv to exists and control"
   ]
  },
  {
   "cell_type": "code",
   "execution_count": 7,
   "metadata": {},
   "outputs": [],
   "source": [
    "import pandas as pd\n",
    "\n",
    "df = pd.read_csv('total.csv')\n",
    "\n",
    "# Split the DataFrame into two based on the 'Treatment' column\n",
    "exists_df = df[df['Treatment'] == 1]\n",
    "control_df = df[df['Treatment'] == 0]\n",
    "\n",
    "# Save the two DataFrames to separate CSV files\n",
    "exists_df.to_csv('exists.csv', index=False)\n",
    "control_df.to_csv('control.csv', index=False)\n"
   ]
  },
  {
   "cell_type": "markdown",
   "metadata": {},
   "source": [
    "create built from exist using the flag given in the UID"
   ]
  },
  {
   "cell_type": "code",
   "execution_count": 14,
   "metadata": {},
   "outputs": [],
   "source": [
    "\n",
    "# Load the CSV files into Pandas DataFrames\n",
    "AEZ_valid_farm_ponds_df = pd.read_csv('AEZ_valid_farm_ponds.csv')\n",
    "exists_df = pd.read_csv('exists.csv')\n",
    "\n",
    "# Merge the DataFrames based on the 'UID' column\n",
    "merged_df = pd.merge(exists_df, AEZ_valid_farm_ponds_df[['UID', 'built_in_2017']], on='UID', how='inner')\n",
    "\n",
    "# Select rows where 'built_in_2017' is equal to 1\n",
    "result_df = merged_df[merged_df['built_in_2017'] == 1]\n",
    "result_df = result_df.drop(columns = ['built_in_2017', 'Treatment'])\n",
    "# Save the result to a new CSV file\n",
    "result_df.to_csv('built.csv', index=False)\n"
   ]
  },
  {
   "cell_type": "code",
   "execution_count": null,
   "metadata": {},
   "outputs": [],
   "source": [
    "take only those UIDs in exists which are in the asset uploaded on GEE"
   ]
  },
  {
   "cell_type": "code",
   "execution_count": 6,
   "metadata": {},
   "outputs": [],
   "source": [
    "exists_df = pd.read_csv('exists.csv')\n",
    "aez_df = pd.read_csv('AEZ_valid_farm_ponds.csv')\n",
    "\n",
    "merged_df = pd.merge(exists_df, aez_df[['UID']], on='UID', how='inner')\n",
    "\n",
    "merged_df.to_csv('exists_UID.csv', index=False)"
   ]
  },
  {
   "cell_type": "markdown",
   "metadata": {},
   "source": [
    "take only those UID's in built which are in assets uploaded on GEE"
   ]
  },
  {
   "cell_type": "code",
   "execution_count": 15,
   "metadata": {},
   "outputs": [],
   "source": [
    "built_df = pd.read_csv('built.csv')\n",
    "aez_df = pd.read_csv('AEZ_built_in_2017.csv')\n",
    "\n",
    "merged_df = pd.merge(built_df, aez_df[['UID']], on='UID', how='inner')\n",
    "\n",
    "merged_df.to_csv('built_UID.csv', index=False)\n",
    "\n"
   ]
  },
  {
   "cell_type": "markdown",
   "metadata": {},
   "source": [
    "take only those in control that are in the actual GEE asset"
   ]
  },
  {
   "cell_type": "code",
   "execution_count": 16,
   "metadata": {},
   "outputs": [],
   "source": [
    "control_df = pd.read_csv('control.csv')\n",
    "aez_df = pd.read_csv('./Control_Points.csv')\n",
    "\n",
    "merged_df = pd.merge(control_df, aez_df[['UID']], on='UID', how='inner')\n",
    "\n",
    "merged_df.to_csv('control_UID.csv', index=False)"
   ]
  }
 ],
 "metadata": {
  "kernelspec": {
   "display_name": "Python 3",
   "language": "python",
   "name": "python3"
  },
  "language_info": {
   "codemirror_mode": {
    "name": "ipython",
    "version": 3
   },
   "file_extension": ".py",
   "mimetype": "text/x-python",
   "name": "python",
   "nbconvert_exporter": "python",
   "pygments_lexer": "ipython3",
   "version": "3.11.5"
  }
 },
 "nbformat": 4,
 "nbformat_minor": 2
}
